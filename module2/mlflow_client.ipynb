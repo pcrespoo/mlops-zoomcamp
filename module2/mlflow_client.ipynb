{
 "cells": [
  {
   "cell_type": "markdown",
   "id": "a2087154",
   "metadata": {},
   "source": [
    "### Instantiate MLflow client"
   ]
  },
  {
   "cell_type": "code",
   "execution_count": 1,
   "id": "5499ce44",
   "metadata": {},
   "outputs": [],
   "source": [
    "from mlflow.tracking import MlflowClient\n",
    "\n",
    "MLFLOW_TRACKING_URI = 'sqlite:///mlflow.db'\n",
    "\n",
    "client = MlflowClient(tracking_uri=MLFLOW_TRACKING_URI)"
   ]
  },
  {
   "cell_type": "markdown",
   "id": "7d9d1e27",
   "metadata": {},
   "source": [
    "### List all the experiments created"
   ]
  },
  {
   "cell_type": "code",
   "execution_count": 2,
   "id": "a0d297c6",
   "metadata": {},
   "outputs": [
    {
     "data": {
      "text/plain": [
       "[<Experiment: artifact_location='./mlruns/0', experiment_id='0', lifecycle_stage='active', name='Default', tags={}>,\n",
       " <Experiment: artifact_location='./mlruns/1', experiment_id='1', lifecycle_stage='active', name='nyc-taxi-experiment', tags={}>]"
      ]
     },
     "execution_count": 2,
     "metadata": {},
     "output_type": "execute_result"
    }
   ],
   "source": [
    "client.list_experiments()"
   ]
  },
  {
   "cell_type": "markdown",
   "id": "2f324a2d",
   "metadata": {},
   "source": [
    "### Create an experiment"
   ]
  },
  {
   "cell_type": "code",
   "execution_count": 3,
   "id": "c3f5fe99",
   "metadata": {},
   "outputs": [
    {
     "data": {
      "text/plain": [
       "'2'"
      ]
     },
     "execution_count": 3,
     "metadata": {},
     "output_type": "execute_result"
    }
   ],
   "source": [
    "client.create_experiment('my_new_experiment')"
   ]
  },
  {
   "cell_type": "markdown",
   "id": "37857098",
   "metadata": {},
   "source": [
    "### Retrieve some runs based on metric performance"
   ]
  },
  {
   "cell_type": "code",
   "execution_count": 5,
   "id": "2e6af14a",
   "metadata": {},
   "outputs": [],
   "source": [
    "from mlflow.entities import ViewType\n",
    "\n",
    "runs = client.search_runs(\n",
    "    experiment_ids='1',\n",
    "    filter_string='',\n",
    "    run_view_type=ViewType.ACTIVE_ONLY,\n",
    "    max_results=5,\n",
    "    order_by=['metrics.rmse ASC']\n",
    ")\n"
   ]
  },
  {
   "cell_type": "code",
   "execution_count": 10,
   "id": "56699cf5",
   "metadata": {},
   "outputs": [
    {
     "name": "stdout",
     "output_type": "stream",
     "text": [
      "run_id:8a44f2719fe5458db1e7d926838650fa, rmse:{'rmse': 6.304357717795927}\n",
      "run_id:0dc858a62d7c41f7846b4b90bd513b6e, rmse:{'rmse': 6.304357717795927}\n",
      "run_id:307b7c7370fe422992850c3532000160, rmse:{'rmse': 6.31004596840228}\n",
      "run_id:22be0037eaba4a67aea87b8db9328ee0, rmse:{'rmse': 6.312596730667913}\n",
      "run_id:13c81c2f23f74762bcc5228d80ae43b2, rmse:{'rmse': 6.315901000918666}\n"
     ]
    }
   ],
   "source": [
    "for run in runs:\n",
    "    print(f'run_id:{run.info.run_id}, rmse:{run.data.metrics}')"
   ]
  },
  {
   "cell_type": "markdown",
   "id": "739bd417",
   "metadata": {},
   "source": [
    "### Model registry using client"
   ]
  },
  {
   "cell_type": "code",
   "execution_count": 11,
   "id": "fc56e164",
   "metadata": {},
   "outputs": [],
   "source": [
    "import mlflow\n",
    "\n",
    "mlflow.set_tracking_uri(MLFLOW_TRACKING_URI)"
   ]
  },
  {
   "cell_type": "code",
   "execution_count": 12,
   "id": "0f6c9608",
   "metadata": {},
   "outputs": [
    {
     "name": "stderr",
     "output_type": "stream",
     "text": [
      "Registered model 'nyc-taxi-regressor' already exists. Creating a new version of this model...\n",
      "2022/08/14 20:14:30 INFO mlflow.tracking._model_registry.client: Waiting up to 300 seconds for model version to finish creation.                     Model name: nyc-taxi-regressor, version 2\n",
      "Created version '2' of model 'nyc-taxi-regressor'.\n"
     ]
    },
    {
     "data": {
      "text/plain": [
       "<ModelVersion: creation_timestamp=1660518869979, current_stage='None', description=None, last_updated_timestamp=1660518869979, name='nyc-taxi-regressor', run_id='22be0037eaba4a67aea87b8db9328ee0', run_link=None, source='./mlruns/1/22be0037eaba4a67aea87b8db9328ee0/artifacts/model', status='READY', status_message=None, tags={}, user_id=None, version=2>"
      ]
     },
     "execution_count": 12,
     "metadata": {},
     "output_type": "execute_result"
    }
   ],
   "source": [
    "run_id = '22be0037eaba4a67aea87b8db9328ee0'\n",
    "model_uri = f'runs:/{run_id}/model'\n",
    "mlflow.register_model(model_uri=model_uri, name='nyc-taxi-regressor')"
   ]
  },
  {
   "cell_type": "markdown",
   "id": "3dc92eb0",
   "metadata": {},
   "source": [
    "### Model transition "
   ]
  },
  {
   "cell_type": "code",
   "execution_count": 13,
   "id": "2c846959",
   "metadata": {},
   "outputs": [
    {
     "data": {
      "text/plain": [
       "[<ModelVersion: creation_timestamp=1660517318586, current_stage='Staging', description='', last_updated_timestamp=1660517561016, name='nyc-taxi-regressor', run_id='8a44f2719fe5458db1e7d926838650fa', run_link='', source='./mlruns/1/8a44f2719fe5458db1e7d926838650fa/artifacts/model_mlflow', status='READY', status_message=None, tags={'model': 'xgboost'}, user_id=None, version=1>,\n",
       " <ModelVersion: creation_timestamp=1660518869979, current_stage='None', description=None, last_updated_timestamp=1660518869979, name='nyc-taxi-regressor', run_id='22be0037eaba4a67aea87b8db9328ee0', run_link=None, source='./mlruns/1/22be0037eaba4a67aea87b8db9328ee0/artifacts/model', status='READY', status_message=None, tags={}, user_id=None, version=2>]"
      ]
     },
     "execution_count": 13,
     "metadata": {},
     "output_type": "execute_result"
    }
   ],
   "source": [
    "client.get_latest_versions(name='nyc-taxi-regressor')"
   ]
  },
  {
   "cell_type": "code",
   "execution_count": 14,
   "id": "f91c227b",
   "metadata": {},
   "outputs": [
    {
     "data": {
      "text/plain": [
       "<ModelVersion: creation_timestamp=1660518869979, current_stage='Staging', description=None, last_updated_timestamp=1660519071445, name='nyc-taxi-regressor', run_id='22be0037eaba4a67aea87b8db9328ee0', run_link=None, source='./mlruns/1/22be0037eaba4a67aea87b8db9328ee0/artifacts/model', status='READY', status_message=None, tags={}, user_id=None, version=2>"
      ]
     },
     "execution_count": 14,
     "metadata": {},
     "output_type": "execute_result"
    }
   ],
   "source": [
    "client.transition_model_version_stage(\n",
    "    name='nyc-taxi-regressor',\n",
    "    version='2',\n",
    "    stage='staging',\n",
    "    archive_existing_versions=False\n",
    ")"
   ]
  },
  {
   "cell_type": "code",
   "execution_count": 22,
   "id": "395bdb87",
   "metadata": {},
   "outputs": [
    {
     "data": {
      "text/plain": [
       "<ModelVersion: creation_timestamp=1660517318586, current_stage='Production', description='', last_updated_timestamp=1660520157152, name='nyc-taxi-regressor', run_id='8a44f2719fe5458db1e7d926838650fa', run_link='', source='./mlruns/1/8a44f2719fe5458db1e7d926838650fa/artifacts/model_mlflow', status='READY', status_message=None, tags={'model': 'xgboost'}, user_id=None, version=1>"
      ]
     },
     "execution_count": 22,
     "metadata": {},
     "output_type": "execute_result"
    }
   ],
   "source": [
    "client.transition_model_version_stage(\n",
    "    name='nyc-taxi-regressor',\n",
    "    version='1',\n",
    "    stage='production',\n",
    "    archive_existing_versions=False\n",
    ")"
   ]
  },
  {
   "cell_type": "markdown",
   "id": "0f4d8aec",
   "metadata": {},
   "source": [
    "### Making predictions using the model in Production"
   ]
  },
  {
   "cell_type": "code",
   "execution_count": 23,
   "id": "3e97ee3a",
   "metadata": {},
   "outputs": [],
   "source": [
    "from sklearn.metrics import mean_squared_error\n",
    "import pandas as pd\n",
    "\n",
    "name = 'nyc-taxi-regressor'\n",
    "\n",
    "def read_dataframe(filename):\n",
    "    df = pd.read_parquet(filename)\n",
    "\n",
    "    df.lpep_dropoff_datetime = pd.to_datetime(df.lpep_dropoff_datetime)\n",
    "    df.lpep_pickup_datetime = pd.to_datetime(df.lpep_pickup_datetime)\n",
    "\n",
    "    df['duration'] = df.lpep_dropoff_datetime - df.lpep_pickup_datetime\n",
    "    df.duration = df.duration.apply(lambda td: td.total_seconds() / 60)\n",
    "\n",
    "    df = df[(df.duration >= 1) & (df.duration <= 60)]\n",
    "\n",
    "    categorical = ['PULocationID', 'DOLocationID']\n",
    "    df[categorical] = df[categorical].astype(str)\n",
    "    \n",
    "    return df\n",
    "\n",
    "\n",
    "def preprocess(df, dv):\n",
    "    df['PU_DO'] = df['PULocationID'] + '_' + df['DOLocationID']\n",
    "    categorical = ['PU_DO']\n",
    "    numerical = ['trip_distance']\n",
    "    train_dicts = df[categorical + numerical].to_dict(orient='records')\n",
    "    return dv.transform(train_dicts)\n",
    "\n",
    "\n",
    "def test_model(name, stage, X_test, y_test):\n",
    "    model = mlflow.pyfunc.load_model(f\"models:/{name}/{stage}\")\n",
    "    y_pred = model.predict(X_test)\n",
    "    return {\"rmse\": mean_squared_error(y_test, y_pred, squared=False)}"
   ]
  },
  {
   "cell_type": "code",
   "execution_count": 16,
   "id": "755b6858",
   "metadata": {},
   "outputs": [
    {
     "data": {
      "text/plain": [
       "'C:\\\\Users\\\\pedro\\\\Documents\\\\Estudos_DS\\\\repos\\\\mlops-zoomcamp\\\\module2\\\\preprocessor'"
      ]
     },
     "execution_count": 16,
     "metadata": {},
     "output_type": "execute_result"
    }
   ],
   "source": [
    "client.download_artifacts(run_id='8a44f2719fe5458db1e7d926838650fa', path='preprocessor',dst_path='.')"
   ]
  },
  {
   "cell_type": "code",
   "execution_count": 17,
   "id": "251b9cb3",
   "metadata": {},
   "outputs": [],
   "source": [
    "import pickle\n",
    "with open('./preprocessor/preprocessor.b','rb') as w:\n",
    "    dv = pickle.load(w)"
   ]
  },
  {
   "cell_type": "code",
   "execution_count": 20,
   "id": "158c5877",
   "metadata": {},
   "outputs": [],
   "source": [
    "df = read_dataframe('./data/green_tripdata_2021-03.parquet')"
   ]
  },
  {
   "cell_type": "code",
   "execution_count": 21,
   "id": "38777a19",
   "metadata": {},
   "outputs": [],
   "source": [
    "X_test = preprocess(df,dv)"
   ]
  },
  {
   "cell_type": "code",
   "execution_count": 24,
   "id": "6be7ca23",
   "metadata": {},
   "outputs": [],
   "source": [
    "target = 'duration'\n",
    "y_test = df[target].values"
   ]
  },
  {
   "cell_type": "code",
   "execution_count": 25,
   "id": "95656b61",
   "metadata": {},
   "outputs": [
    {
     "name": "stdout",
     "output_type": "stream",
     "text": [
      "[20:36:59] WARNING: C:/Users/Administrator/workspace/xgboost-win64_release_1.6.0/src/objective/regression_obj.cu:203: reg:linear is now deprecated in favor of reg:squarederror.\n"
     ]
    },
    {
     "data": {
      "text/plain": [
       "{'rmse': 6.24876919898966}"
      ]
     },
     "execution_count": 25,
     "metadata": {},
     "output_type": "execute_result"
    }
   ],
   "source": [
    "test_model(name, 'Production', X_test, y_test)"
   ]
  }
 ],
 "metadata": {
  "kernelspec": {
   "display_name": "Python 3 (ipykernel)",
   "language": "python",
   "name": "python3"
  },
  "language_info": {
   "codemirror_mode": {
    "name": "ipython",
    "version": 3
   },
   "file_extension": ".py",
   "mimetype": "text/x-python",
   "name": "python",
   "nbconvert_exporter": "python",
   "pygments_lexer": "ipython3",
   "version": "3.9.12"
  }
 },
 "nbformat": 4,
 "nbformat_minor": 5
}
